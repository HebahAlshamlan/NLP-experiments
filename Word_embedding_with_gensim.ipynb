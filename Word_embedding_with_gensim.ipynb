{
  "nbformat": 4,
  "nbformat_minor": 0,
  "metadata": {
    "colab": {
      "name": "Word embedding with gensim.ipynb",
      "provenance": [],
      "collapsed_sections": [],
      "authorship_tag": "ABX9TyMHn1tTE5um26Ad4uUreq/m",
      "include_colab_link": true
    },
    "kernelspec": {
      "name": "python3",
      "display_name": "Python 3"
    }
  },
  "cells": [
    {
      "cell_type": "markdown",
      "metadata": {
        "id": "view-in-github",
        "colab_type": "text"
      },
      "source": [
        "<a href=\"https://colab.research.google.com/github/HebahAlshamlan/NLP-experiments/blob/master/Word_embedding_with_gensim.ipynb\" target=\"_parent\"><img src=\"https://colab.research.google.com/assets/colab-badge.svg\" alt=\"Open In Colab\"/></a>"
      ]
    },
    {
      "cell_type": "code",
      "metadata": {
        "id": "1CEj9DI3vSUE",
        "colab_type": "code",
        "colab": {}
      },
      "source": [
        "\n",
        "import gensim\n",
        "from gensim.models import word2vec\n",
        "import logging\n",
        "# logging \n",
        "logging.basicConfig(format='%(asctime)s : %(levelname)s : %(message)s', level=logging.INFO)\n",
        "\n"
      ],
      "execution_count": 0,
      "outputs": []
    },
    {
      "cell_type": "code",
      "metadata": {
        "id": "M-4LXfkJvfhW",
        "colab_type": "code",
        "outputId": "878d5c78-8eec-445a-cd00-214e5372ddf9",
        "colab": {
          "base_uri": "https://localhost:8080/",
          "height": 1000
        }
      },
      "source": [
        "\n",
        "\n",
        "\n",
        "\n",
        "text2train = word2vec.Text8Corpus('dataset.txt')\n",
        "model1 = word2vec.Word2Vec(text2train, size=300, iter = 20, sg=1 , window=5)\n",
        "model1.save('DataStores_edited.model')\n",
        "\n",
        "\n",
        "\n",
        "\n"
      ],
      "execution_count": 25,
      "outputs": [
        {
          "output_type": "stream",
          "text": [
            "2020-02-25 20:49:45,718 : INFO : collecting all words and their counts\n",
            "/usr/local/lib/python3.6/dist-packages/smart_open/smart_open_lib.py:402: UserWarning: This function is deprecated, use smart_open.open instead. See the migration notes for details: https://github.com/RaRe-Technologies/smart_open/blob/master/README.rst#migrating-to-the-new-open-function\n",
            "  'See the migration notes for details: %s' % _MIGRATION_NOTES_URL\n",
            "2020-02-25 20:49:45,734 : INFO : PROGRESS: at sentence #0, processed 0 words, keeping 0 word types\n",
            "2020-02-25 20:49:45,851 : INFO : collected 56516 word types from a corpus of 247642 raw words and 25 sentences\n",
            "2020-02-25 20:49:45,853 : INFO : Loading a fresh vocabulary\n",
            "2020-02-25 20:49:45,893 : INFO : effective_min_count=5 retains 6295 unique words (11% of original 56516, drops 50221)\n",
            "2020-02-25 20:49:45,894 : INFO : effective_min_count=5 leaves 179585 word corpus (72% of original 247642, drops 68057)\n",
            "2020-02-25 20:49:45,923 : INFO : deleting the raw counts dictionary of 56516 items\n",
            "2020-02-25 20:49:45,930 : INFO : sample=0.001 downsamples 36 most-common words\n",
            "2020-02-25 20:49:45,931 : INFO : downsampling leaves estimated 159468 word corpus (88.8% of prior 179585)\n",
            "2020-02-25 20:49:45,951 : INFO : estimated required memory for 6295 words and 300 dimensions: 18255500 bytes\n",
            "2020-02-25 20:49:45,952 : INFO : resetting layer weights\n",
            "2020-02-25 20:49:47,508 : INFO : training model with 3 workers on 6295 vocabulary and 300 features, using sg=1 hs=0 sample=0.001 negative=5 window=5\n",
            "2020-02-25 20:49:48,531 : INFO : EPOCH 1 - PROGRESS: at 64.00% examples, 102328 words/s, in_qsize 5, out_qsize 0\n",
            "2020-02-25 20:49:48,935 : INFO : worker thread finished; awaiting finish of 2 more threads\n",
            "2020-02-25 20:49:48,962 : INFO : worker thread finished; awaiting finish of 1 more threads\n",
            "2020-02-25 20:49:48,983 : INFO : worker thread finished; awaiting finish of 0 more threads\n",
            "2020-02-25 20:49:48,984 : INFO : EPOCH - 1 : training on 247642 raw words (159315 effective words) took 1.5s, 108582 effective words/s\n",
            "2020-02-25 20:49:50,056 : INFO : EPOCH 2 - PROGRESS: at 64.00% examples, 97607 words/s, in_qsize 5, out_qsize 0\n",
            "2020-02-25 20:49:50,445 : INFO : worker thread finished; awaiting finish of 2 more threads\n",
            "2020-02-25 20:49:50,458 : INFO : worker thread finished; awaiting finish of 1 more threads\n",
            "2020-02-25 20:49:50,496 : INFO : worker thread finished; awaiting finish of 0 more threads\n",
            "2020-02-25 20:49:50,497 : INFO : EPOCH - 2 : training on 247642 raw words (159422 effective words) took 1.5s, 105964 effective words/s\n",
            "2020-02-25 20:49:51,538 : INFO : EPOCH 3 - PROGRESS: at 64.00% examples, 99996 words/s, in_qsize 5, out_qsize 0\n",
            "2020-02-25 20:49:51,900 : INFO : worker thread finished; awaiting finish of 2 more threads\n",
            "2020-02-25 20:49:51,970 : INFO : worker thread finished; awaiting finish of 1 more threads\n",
            "2020-02-25 20:49:51,975 : INFO : worker thread finished; awaiting finish of 0 more threads\n",
            "2020-02-25 20:49:51,976 : INFO : EPOCH - 3 : training on 247642 raw words (159439 effective words) took 1.5s, 107972 effective words/s\n",
            "2020-02-25 20:49:53,001 : INFO : EPOCH 4 - PROGRESS: at 60.00% examples, 95774 words/s, in_qsize 5, out_qsize 1\n",
            "2020-02-25 20:49:53,419 : INFO : worker thread finished; awaiting finish of 2 more threads\n",
            "2020-02-25 20:49:53,448 : INFO : worker thread finished; awaiting finish of 1 more threads\n",
            "2020-02-25 20:49:53,471 : INFO : worker thread finished; awaiting finish of 0 more threads\n",
            "2020-02-25 20:49:53,472 : INFO : EPOCH - 4 : training on 247642 raw words (159445 effective words) took 1.5s, 107072 effective words/s\n",
            "2020-02-25 20:49:54,487 : INFO : EPOCH 5 - PROGRESS: at 64.00% examples, 102573 words/s, in_qsize 5, out_qsize 0\n",
            "2020-02-25 20:49:54,874 : INFO : worker thread finished; awaiting finish of 2 more threads\n",
            "2020-02-25 20:49:54,916 : INFO : worker thread finished; awaiting finish of 1 more threads\n",
            "2020-02-25 20:49:54,949 : INFO : worker thread finished; awaiting finish of 0 more threads\n",
            "2020-02-25 20:49:54,950 : INFO : EPOCH - 5 : training on 247642 raw words (159482 effective words) took 1.5s, 108050 effective words/s\n",
            "2020-02-25 20:49:56,070 : INFO : EPOCH 6 - PROGRESS: at 64.00% examples, 93040 words/s, in_qsize 5, out_qsize 0\n",
            "2020-02-25 20:49:56,485 : INFO : worker thread finished; awaiting finish of 2 more threads\n",
            "2020-02-25 20:49:56,489 : INFO : worker thread finished; awaiting finish of 1 more threads\n",
            "2020-02-25 20:49:56,529 : INFO : worker thread finished; awaiting finish of 0 more threads\n",
            "2020-02-25 20:49:56,532 : INFO : EPOCH - 6 : training on 247642 raw words (159480 effective words) took 1.6s, 100999 effective words/s\n",
            "2020-02-25 20:49:57,541 : INFO : EPOCH 7 - PROGRESS: at 60.00% examples, 96852 words/s, in_qsize 5, out_qsize 0\n",
            "2020-02-25 20:49:57,988 : INFO : worker thread finished; awaiting finish of 2 more threads\n",
            "2020-02-25 20:49:58,004 : INFO : worker thread finished; awaiting finish of 1 more threads\n",
            "2020-02-25 20:49:58,022 : INFO : worker thread finished; awaiting finish of 0 more threads\n",
            "2020-02-25 20:49:58,023 : INFO : EPOCH - 7 : training on 247642 raw words (159508 effective words) took 1.5s, 107380 effective words/s\n",
            "2020-02-25 20:49:59,033 : INFO : EPOCH 8 - PROGRESS: at 56.00% examples, 90172 words/s, in_qsize 5, out_qsize 0\n",
            "2020-02-25 20:49:59,506 : INFO : worker thread finished; awaiting finish of 2 more threads\n",
            "2020-02-25 20:49:59,559 : INFO : worker thread finished; awaiting finish of 1 more threads\n",
            "2020-02-25 20:49:59,580 : INFO : worker thread finished; awaiting finish of 0 more threads\n",
            "2020-02-25 20:49:59,580 : INFO : EPOCH - 8 : training on 247642 raw words (159649 effective words) took 1.6s, 102780 effective words/s\n",
            "2020-02-25 20:50:00,600 : INFO : EPOCH 9 - PROGRESS: at 60.00% examples, 95783 words/s, in_qsize 5, out_qsize 0\n",
            "2020-02-25 20:50:01,050 : INFO : worker thread finished; awaiting finish of 2 more threads\n",
            "2020-02-25 20:50:01,088 : INFO : worker thread finished; awaiting finish of 1 more threads\n",
            "2020-02-25 20:50:01,094 : INFO : worker thread finished; awaiting finish of 0 more threads\n",
            "2020-02-25 20:50:01,095 : INFO : EPOCH - 9 : training on 247642 raw words (159447 effective words) took 1.5s, 105525 effective words/s\n",
            "2020-02-25 20:50:02,140 : INFO : EPOCH 10 - PROGRESS: at 60.00% examples, 95134 words/s, in_qsize 5, out_qsize 0\n",
            "2020-02-25 20:50:02,577 : INFO : worker thread finished; awaiting finish of 2 more threads\n",
            "2020-02-25 20:50:02,595 : INFO : worker thread finished; awaiting finish of 1 more threads\n",
            "2020-02-25 20:50:02,606 : INFO : worker thread finished; awaiting finish of 0 more threads\n",
            "2020-02-25 20:50:02,606 : INFO : EPOCH - 10 : training on 247642 raw words (159660 effective words) took 1.5s, 106234 effective words/s\n",
            "2020-02-25 20:50:03,613 : INFO : EPOCH 11 - PROGRESS: at 60.00% examples, 96983 words/s, in_qsize 5, out_qsize 0\n",
            "2020-02-25 20:50:04,033 : INFO : worker thread finished; awaiting finish of 2 more threads\n",
            "2020-02-25 20:50:04,064 : INFO : worker thread finished; awaiting finish of 1 more threads\n",
            "2020-02-25 20:50:04,100 : INFO : worker thread finished; awaiting finish of 0 more threads\n",
            "2020-02-25 20:50:04,102 : INFO : EPOCH - 11 : training on 247642 raw words (159598 effective words) took 1.5s, 106993 effective words/s\n",
            "2020-02-25 20:50:05,163 : INFO : EPOCH 12 - PROGRESS: at 64.00% examples, 99017 words/s, in_qsize 5, out_qsize 0\n",
            "2020-02-25 20:50:05,562 : INFO : worker thread finished; awaiting finish of 2 more threads\n",
            "2020-02-25 20:50:05,586 : INFO : worker thread finished; awaiting finish of 1 more threads\n",
            "2020-02-25 20:50:05,596 : INFO : worker thread finished; awaiting finish of 0 more threads\n",
            "2020-02-25 20:50:05,597 : INFO : EPOCH - 12 : training on 247642 raw words (159539 effective words) took 1.5s, 107382 effective words/s\n",
            "2020-02-25 20:50:06,634 : INFO : EPOCH 13 - PROGRESS: at 64.00% examples, 100265 words/s, in_qsize 5, out_qsize 0\n",
            "2020-02-25 20:50:07,037 : INFO : worker thread finished; awaiting finish of 2 more threads\n",
            "2020-02-25 20:50:07,069 : INFO : worker thread finished; awaiting finish of 1 more threads\n",
            "2020-02-25 20:50:07,073 : INFO : worker thread finished; awaiting finish of 0 more threads\n",
            "2020-02-25 20:50:07,075 : INFO : EPOCH - 13 : training on 247642 raw words (159286 effective words) took 1.5s, 107974 effective words/s\n",
            "2020-02-25 20:50:08,095 : INFO : EPOCH 14 - PROGRESS: at 60.00% examples, 95854 words/s, in_qsize 5, out_qsize 0\n",
            "2020-02-25 20:50:08,572 : INFO : worker thread finished; awaiting finish of 2 more threads\n",
            "2020-02-25 20:50:08,634 : INFO : worker thread finished; awaiting finish of 1 more threads\n",
            "2020-02-25 20:50:08,643 : INFO : worker thread finished; awaiting finish of 0 more threads\n",
            "2020-02-25 20:50:08,644 : INFO : EPOCH - 14 : training on 247642 raw words (159351 effective words) took 1.6s, 101961 effective words/s\n",
            "2020-02-25 20:50:09,662 : INFO : EPOCH 15 - PROGRESS: at 60.00% examples, 95714 words/s, in_qsize 5, out_qsize 0\n",
            "2020-02-25 20:50:10,109 : INFO : worker thread finished; awaiting finish of 2 more threads\n",
            "2020-02-25 20:50:10,132 : INFO : worker thread finished; awaiting finish of 1 more threads\n",
            "2020-02-25 20:50:10,174 : INFO : worker thread finished; awaiting finish of 0 more threads\n",
            "2020-02-25 20:50:10,175 : INFO : EPOCH - 15 : training on 247642 raw words (159574 effective words) took 1.5s, 104398 effective words/s\n",
            "2020-02-25 20:50:11,202 : INFO : EPOCH 16 - PROGRESS: at 64.00% examples, 101427 words/s, in_qsize 5, out_qsize 0\n",
            "2020-02-25 20:50:11,599 : INFO : worker thread finished; awaiting finish of 2 more threads\n",
            "2020-02-25 20:50:11,632 : INFO : worker thread finished; awaiting finish of 1 more threads\n",
            "2020-02-25 20:50:11,647 : INFO : worker thread finished; awaiting finish of 0 more threads\n",
            "2020-02-25 20:50:11,648 : INFO : EPOCH - 16 : training on 247642 raw words (159382 effective words) took 1.5s, 108399 effective words/s\n",
            "2020-02-25 20:50:12,705 : INFO : EPOCH 17 - PROGRESS: at 60.00% examples, 92274 words/s, in_qsize 5, out_qsize 0\n",
            "2020-02-25 20:50:13,135 : INFO : worker thread finished; awaiting finish of 2 more threads\n",
            "2020-02-25 20:50:13,173 : INFO : worker thread finished; awaiting finish of 1 more threads\n",
            "2020-02-25 20:50:13,193 : INFO : worker thread finished; awaiting finish of 0 more threads\n",
            "2020-02-25 20:50:13,194 : INFO : EPOCH - 17 : training on 247642 raw words (159538 effective words) took 1.5s, 103388 effective words/s\n",
            "2020-02-25 20:50:14,239 : INFO : EPOCH 18 - PROGRESS: at 64.00% examples, 101344 words/s, in_qsize 5, out_qsize 0\n",
            "2020-02-25 20:50:14,633 : INFO : worker thread finished; awaiting finish of 2 more threads\n",
            "2020-02-25 20:50:14,640 : INFO : worker thread finished; awaiting finish of 1 more threads\n",
            "2020-02-25 20:50:14,670 : INFO : worker thread finished; awaiting finish of 0 more threads\n",
            "2020-02-25 20:50:14,671 : INFO : EPOCH - 18 : training on 247642 raw words (159569 effective words) took 1.5s, 108385 effective words/s\n",
            "2020-02-25 20:50:15,725 : INFO : EPOCH 19 - PROGRESS: at 64.00% examples, 98774 words/s, in_qsize 5, out_qsize 0\n",
            "2020-02-25 20:50:16,125 : INFO : worker thread finished; awaiting finish of 2 more threads\n",
            "2020-02-25 20:50:16,137 : INFO : worker thread finished; awaiting finish of 1 more threads\n",
            "2020-02-25 20:50:16,156 : INFO : worker thread finished; awaiting finish of 0 more threads\n",
            "2020-02-25 20:50:16,157 : INFO : EPOCH - 19 : training on 247642 raw words (159347 effective words) took 1.5s, 107369 effective words/s\n",
            "2020-02-25 20:50:17,199 : INFO : EPOCH 20 - PROGRESS: at 60.00% examples, 93707 words/s, in_qsize 5, out_qsize 0\n",
            "2020-02-25 20:50:17,671 : INFO : worker thread finished; awaiting finish of 2 more threads\n",
            "2020-02-25 20:50:17,684 : INFO : worker thread finished; awaiting finish of 1 more threads\n",
            "2020-02-25 20:50:17,727 : INFO : worker thread finished; awaiting finish of 0 more threads\n",
            "2020-02-25 20:50:17,728 : INFO : EPOCH - 20 : training on 247642 raw words (159537 effective words) took 1.6s, 101853 effective words/s\n",
            "2020-02-25 20:50:17,728 : INFO : training on a 4952840 raw words (3189568 effective words) took 30.2s, 105548 effective words/s\n",
            "2020-02-25 20:50:17,730 : INFO : saving Word2Vec object under DataStores_edited.model, separately None\n",
            "2020-02-25 20:50:17,731 : INFO : not storing attribute vectors_norm\n",
            "2020-02-25 20:50:17,731 : INFO : not storing attribute cum_table\n",
            "2020-02-25 20:50:17,926 : INFO : saved DataStores_edited.model\n"
          ],
          "name": "stderr"
        }
      ]
    },
    {
      "cell_type": "code",
      "metadata": {
        "id": "NVUJ0S8Jvfy2",
        "colab_type": "code",
        "outputId": "4958c1bd-998a-47ec-e8d0-dc54733d700c",
        "colab": {
          "base_uri": "https://localhost:8080/",
          "height": 411
        }
      },
      "source": [
        "\n",
        "word_S = \"مغني\"\n",
        "sim = model1.wv.most_similar( word_S , topn = 20)\n",
        "for term in sim:\n",
        "    print(term)\n",
        "\n",
        "\n"
      ],
      "execution_count": 42,
      "outputs": [
        {
          "output_type": "stream",
          "text": [
            "('وملحن', 0.8757767677307129)\n",
            "('واخلاقه', 0.8297432661056519)\n",
            "('وناجح', 0.8040218353271484)\n",
            "('قصائد', 0.7997226119041443)\n",
            "('واحساس', 0.7981528639793396)\n",
            "('وافضل', 0.7957453727722168)\n",
            "('واحساسه', 0.7951309680938721)\n",
            "('عالمي', 0.7943655848503113)\n",
            "('وخلوق', 0.7895311117172241)\n",
            "('فنه', 0.7851500511169434)\n",
            "('أخلاقه', 0.7802644968032837)\n",
            "('اصيل', 0.779082179069519)\n",
            "('ورقي', 0.7758973836898804)\n",
            "('الراقي', 0.7746887803077698)\n",
            "('الفنية', 0.773585319519043)\n",
            "('يحترم', 0.7735350728034973)\n",
            "('وراقي', 0.7730221748352051)\n",
            "('الاصوات', 0.7719923257827759)\n",
            "('وانسان', 0.7703573703765869)\n",
            "('وفنان', 0.7692533731460571)\n"
          ],
          "name": "stdout"
        },
        {
          "output_type": "stream",
          "text": [
            "/usr/local/lib/python3.6/dist-packages/gensim/matutils.py:737: FutureWarning: Conversion of the second argument of issubdtype from `int` to `np.signedinteger` is deprecated. In future, it will be treated as `np.int64 == np.dtype(int).type`.\n",
            "  if np.issubdtype(vec.dtype, np.int):\n"
          ],
          "name": "stderr"
        }
      ]
    }
  ]
}