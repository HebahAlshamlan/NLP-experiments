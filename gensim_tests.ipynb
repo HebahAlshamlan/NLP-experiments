{
  "nbformat": 4,
  "nbformat_minor": 0,
  "metadata": {
    "colab": {
      "name": "gensim_tests.ipynb",
      "provenance": [],
      "authorship_tag": "ABX9TyOrB9X40ZXlqlhvogwIRubt",
      "include_colab_link": true
    },
    "kernelspec": {
      "name": "python3",
      "display_name": "Python 3"
    }
  },
  "cells": [
    {
      "cell_type": "markdown",
      "metadata": {
        "id": "view-in-github",
        "colab_type": "text"
      },
      "source": [
        "<a href=\"https://colab.research.google.com/github/HebahAlshamlan/NLP-experiments/blob/master/gensim_tests.ipynb\" target=\"_parent\"><img src=\"https://colab.research.google.com/assets/colab-badge.svg\" alt=\"Open In Colab\"/></a>"
      ]
    },
    {
      "cell_type": "code",
      "metadata": {
        "id": "VUcfABwOU1Bp",
        "colab_type": "code",
        "colab": {
          "base_uri": "https://localhost:8080/",
          "height": 34
        },
        "outputId": "8deca752-8fef-4bff-ffcb-5fd050bac90e"
      },
      "source": [
        "import gensim\n",
        "from gensim import corpora\n",
        "from pprint import pprint\n",
        "\n",
        "# How to create a dictionary from a list of sentences?\n",
        "documents = [\"السلام عليكم ورحمة الله\", \n",
        "             \"هذا نص رائع\", \n",
        "             \"الروعة تكمن في الدراسة\", \n",
        "             \"انت أبله يا أبله انت غبي\"]\n",
        "\n",
        "documents_2 = [\"وعليكم السلام يا اخي\", \n",
        "                \"انه النص الاخر من القصيدة\", \n",
        "                \"ليت الذي بيني وبينك عامر وبين وبين الاخرين سراب\", \n",
        "                \"التمكين والتعلم والشغف يكمن داخل الإنسان\", \n",
        "                \"القمر يتبع الأرض\", \n",
        "                \"الأرق مرض\"]\n",
        "\n",
        "# Tokeniziton\n",
        "texts = [[text for text in doc.split()] for doc in documents_2]\n",
        "\n",
        "# Create dictionary\n",
        "dictionary = corpora.Dictionary(texts)\n",
        "\n",
        "# Get information about the dictionary\n",
        "print(dictionary)\n"
      ],
      "execution_count": 3,
      "outputs": [
        {
          "output_type": "stream",
          "text": [
            "Dictionary(28 unique tokens: ['اخي', 'السلام', 'وعليكم', 'يا', 'الاخر']...)\n"
          ],
          "name": "stdout"
        }
      ]
    }
  ]
}