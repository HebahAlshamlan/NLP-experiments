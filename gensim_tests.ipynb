{
  "nbformat": 4,
  "nbformat_minor": 0,
  "metadata": {
    "colab": {
      "name": "gensim_tests.ipynb",
      "provenance": [],
      "authorship_tag": "ABX9TyPXHQsJJB8fNsTcBe1vsJ8x",
      "include_colab_link": true
    },
    "kernelspec": {
      "name": "python3",
      "display_name": "Python 3"
    }
  },
  "cells": [
    {
      "cell_type": "markdown",
      "metadata": {
        "id": "view-in-github",
        "colab_type": "text"
      },
      "source": [
        "<a href=\"https://colab.research.google.com/github/HebahAlshamlan/NLP-experiments/blob/master/gensim_tests.ipynb\" target=\"_parent\"><img src=\"https://colab.research.google.com/assets/colab-badge.svg\" alt=\"Open In Colab\"/></a>"
      ]
    },
    {
      "cell_type": "code",
      "metadata": {
        "id": "VUcfABwOU1Bp",
        "colab_type": "code",
        "colab": {
          "base_uri": "https://localhost:8080/",
          "height": 71
        },
        "outputId": "346bf1d2-d85b-486f-f952-9d68d88dd64c"
      },
      "source": [
        "import gensim\n",
        "from gensim import corpora\n",
        "from pprint import pprint\n",
        "\n",
        "# How to create a dictionary from a list of sentences?\n",
        "documents = [\"السلام عليكم ورحمة الله\", \n",
        "             \"هذا نص رائع\", \n",
        "             \"الروعة تكمن في الدراسة\", \n",
        "             \"انت أبله يا أبله انت غبي\"]\n",
        "\n",
        "documents_2 = [\"وعليكم السلام يا اخي\", \n",
        "                \"انه النص الاخر من القصيدة\", \n",
        "                \"ليت الذي بيني وبينك عامر وبين وبين الاخرين سراب\", \n",
        "                \"التمكين والتعلم والشغف يكمن داخل الإنسان\", \n",
        "                \"القمر يتبع الأرض\", \n",
        "                \"الأرق مرض\"]\n",
        "\n",
        "# Tokeniziton\n",
        "texts = [[text for text in doc.split()] for doc in documents_2]\n",
        "\n",
        "# Create dictionary\n",
        "dictionary = corpora.Dictionary(texts)\n",
        "\n",
        "# Get information about the dictionary\n",
        "print(dictionary)\n",
        "print(dictionary.token2id)\n"
      ],
      "execution_count": 4,
      "outputs": [
        {
          "output_type": "stream",
          "text": [
            "Dictionary(28 unique tokens: ['اخي', 'السلام', 'وعليكم', 'يا', 'الاخر']...)\n",
            "{'اخي': 0, 'السلام': 1, 'وعليكم': 2, 'يا': 3, 'الاخر': 4, 'القصيدة': 5, 'النص': 6, 'انه': 7, 'من': 8, 'الاخرين': 9, 'الذي': 10, 'بيني': 11, 'سراب': 12, 'عامر': 13, 'ليت': 14, 'وبين': 15, 'وبينك': 16, 'الإنسان': 17, 'التمكين': 18, 'داخل': 19, 'والتعلم': 20, 'والشغف': 21, 'يكمن': 22, 'الأرض': 23, 'القمر': 24, 'يتبع': 25, 'الأرق': 26, 'مرض': 27}\n"
          ],
          "name": "stdout"
        }
      ]
    },
    {
      "cell_type": "code",
      "metadata": {
        "id": "tgeK7AjNYEjo",
        "colab_type": "code",
        "colab": {
          "base_uri": "https://localhost:8080/",
          "height": 272
        },
        "outputId": "8d3e91a0-efc1-4807-f213-1cb8d3c47e23"
      },
      "source": [
        "from gensim.utils import simple_preprocess\n",
        "from smart_open import smart_open\n",
        "import os\n",
        "\n",
        "# Create gensim dictionary form a single tet file\n",
        "dictionary = corpora.Dictionary(simple_preprocess(line, deacc=True) for line in open('sample.txt', encoding='utf-8'))\n",
        "\n",
        "# Token to Id map\n",
        "dictionary.token2id\n",
        "\n"
      ],
      "execution_count": 9,
      "outputs": [
        {
          "output_type": "execute_result",
          "data": {
            "text/plain": [
              "{'الشر': 0,\n",
              " 'العالم': 1,\n",
              " 'الكون': 2,\n",
              " 'الهرب': 3,\n",
              " 'بديع': 4,\n",
              " 'جدا': 5,\n",
              " 'رايع': 6,\n",
              " 'كيف': 7,\n",
              " 'لتطهير': 8,\n",
              " 'منتشر': 9,\n",
              " 'نريد': 10,\n",
              " 'نكون': 11,\n",
              " 'هذا': 12,\n",
              " 'هنا': 13,\n",
              " 'وكل': 14}"
            ]
          },
          "metadata": {
            "tags": []
          },
          "execution_count": 9
        }
      ]
    }
  ]
}